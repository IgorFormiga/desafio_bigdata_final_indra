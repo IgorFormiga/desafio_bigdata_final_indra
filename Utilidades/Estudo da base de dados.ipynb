{
 "cells": [
  {
   "cell_type": "code",
   "execution_count": 1,
   "metadata": {},
   "outputs": [],
   "source": [
    "from pyspark.sql import SparkSession, dataframe\n",
    "from pyspark.sql.functions import when, col, sum, count, isnan, round\n",
    "from pyspark.sql.functions import regexp_replace, concat_ws, sha2\n",
    "from pyspark.sql.functions import rtrim\n",
    "from pyspark.sql.functions import unix_timestamp, from_unixtime, to_date"
   ]
  },
  {
   "cell_type": "code",
   "execution_count": 2,
   "metadata": {},
   "outputs": [],
   "source": [
    "# Criação da instância spark para leitura e criação de tabelas\n",
    "spark = SparkSession.builder.master(\"local[*]\").enableHiveSupport().getOrCreate()"
   ]
  },
  {
   "cell_type": "code",
   "execution_count": 3,
   "metadata": {},
   "outputs": [],
   "source": [
    "# Lendo tabela CLIENTES do HDFS:\n",
    "\n",
    "df_clientes = spark.read.options(delimiter=';', header=True).option('inferSchema','true')\\\n",
    "                                .csv('/dados_processamento/dados/CLIENTES.csv')"
   ]
  },
  {
   "cell_type": "code",
   "execution_count": 4,
   "metadata": {},
   "outputs": [],
   "source": [
    "# Lendo tabela DIVISAO do HDFS:\n",
    "\n",
    "df_divisao = spark.read.options(delimiter=';', header=True).option('inferSchema','true')\\\n",
    "                                .csv('/dados_processamento/dados/DIVISAO.csv')"
   ]
  },
  {
   "cell_type": "code",
   "execution_count": 5,
   "metadata": {},
   "outputs": [
    {
     "name": "stdout",
     "output_type": "stream",
     "text": [
      "root\n",
      " |-- Division: integer (nullable = true)\n",
      " |-- Division Name: string (nullable = true)\n",
      "\n"
     ]
    }
   ],
   "source": [
    "df_divisao.printSchema()"
   ]
  },
  {
   "cell_type": "code",
   "execution_count": 6,
   "metadata": {},
   "outputs": [],
   "source": [
    "# Lendo tabela ENDERECO do HDFS:\n",
    "\n",
    "df_endereco = spark.read.options(delimiter=';', header=True).option('inferSchema','true')\\\n",
    "                                .csv('/dados_processamento/dados/ENDERECO.csv')"
   ]
  },
  {
   "cell_type": "code",
   "execution_count": 7,
   "metadata": {},
   "outputs": [],
   "source": [
    "# Lendo tabela REGIAO do HDFS:\n",
    "\n",
    "df_regiao = spark.read.options(delimiter=';', header=True).option('inferSchema','true')\\\n",
    "                                .csv('/dados_processamento/dados/REGIAO.csv')"
   ]
  },
  {
   "cell_type": "code",
   "execution_count": 8,
   "metadata": {},
   "outputs": [
    {
     "name": "stdout",
     "output_type": "stream",
     "text": [
      "root\n",
      " |-- Region Code: integer (nullable = true)\n",
      " |-- Region Name: string (nullable = true)\n",
      "\n"
     ]
    }
   ],
   "source": [
    "df_regiao.printSchema()"
   ]
  },
  {
   "cell_type": "code",
   "execution_count": 9,
   "metadata": {},
   "outputs": [],
   "source": [
    "# Lendo tabela VENDAS do HDFS:\n",
    "\n",
    "df_vendas = spark.read.options(delimiter=';', header=True).option('inferSchema','true')\\\n",
    "                                .csv('/dados_processamento/dados/VENDAS.csv')"
   ]
  },
  {
   "cell_type": "code",
   "execution_count": 10,
   "metadata": {},
   "outputs": [
    {
     "name": "stdout",
     "output_type": "stream",
     "text": [
      "root\n",
      " |-- Address Number: integer (nullable = true)\n",
      " |-- Business Family: string (nullable = true)\n",
      " |-- Business Unit: integer (nullable = true)\n",
      " |-- Customer: string (nullable = true)\n",
      " |-- CustomerKey: integer (nullable = true)\n",
      " |-- Customer Type: string (nullable = true)\n",
      " |-- Division: integer (nullable = true)\n",
      " |-- Line of Business: string (nullable = true)\n",
      " |-- Phone: string (nullable = true)\n",
      " |-- Region Code: integer (nullable = true)\n",
      " |-- Regional Sales Mgr: string (nullable = true)\n",
      " |-- Search Type: string (nullable = true)\n",
      "\n"
     ]
    }
   ],
   "source": [
    "## Analisando a tabela Cliente\n",
    "\n",
    "df_clientes.printSchema()"
   ]
  },
  {
   "cell_type": "code",
   "execution_count": 11,
   "metadata": {},
   "outputs": [
    {
     "name": "stdout",
     "output_type": "stream",
     "text": [
      "+--------------+---------------+-------------+--------------------+-----------+-------------+--------+----------------+------------+-----------+------------------+-----------+\n",
      "|Address Number|Business Family|Business Unit|            Customer|CustomerKey|Customer Type|Division|Line of Business|       Phone|Region Code|Regional Sales Mgr|Search Type|\n",
      "+--------------+---------------+-------------+--------------------+-----------+-------------+--------+----------------+------------+-----------+------------------+-----------+\n",
      "|      10000000|             R3|            1|    City Supermarket|   10000000|           G2|       2|                |816-455-8733|          4|               S16|          C|\n",
      "|      10000453|             R3|            1|       A Supermarket|   10000453|           G1|       1|                |816-455-8733|          5|               S19|          C|\n",
      "|      10000455|             R3|            1|Caribian Supermarket|   10000455|           G2|       2|                |816-455-8733|          1|               S16|          C|\n",
      "|      10000456|             R1|            1|            A&B Shop|   10000456|           G3|       1|                |816-455-8733|          0|                S2|          C|\n",
      "|      10000457|             O2|            1|            A&G Shop|   10000457|           G1|       1|                |816-455-8733|          5|                S1|          C|\n",
      "|      10000458|             R3|            1|          A&R Market|   10000458|           G2|       2|                |816-455-8733|          4|                S9|          C|\n",
      "|      10000460|             R3|            1|        Meals Market|   10000460|           G2|       2|                |816-455-8733|          2|               S16|          C|\n",
      "|      10000461|             R1|            1|            A1 Store|   10000461|           G3|       1|                |816-455-8733|          0|                S2|          C|\n",
      "|      10000462|             R3|            1|            a2i Shop|   10000462|           G2|       2|                |816-455-8733|          4|                S1|          C|\n",
      "|      10000466|             R3|            1|           A2Z Store|   10000466|           G2|       2|                |816-455-8733|          1|               S16|          C|\n",
      "|      10000469|             R3|            1|   A-2-Z Supermarket|   10000469|           G3|       1|                |816-455-8733|          0|                S5|          C|\n",
      "|      10000471|             R3|            1|         Aadast Shop|   10000471|           G1|       1|              M1|816-455-8733|          5|               S19|          C|\n",
      "|      10000472|             R3|            1|         Aaron Store|   10000472|           G2|       2|                |816-455-8733|          1|                S4|          C|\n",
      "|      10000473|             R3|            1|   Aaron Supermarket|   10000473|           G2|       2|                |816-455-8733|          1|               S16|          C|\n",
      "|      10000474|             R2|            1|       A-ARVIN Store|   10000474|           G2|       2|                |816-455-8733|          4|                S9|          C|\n",
      "|      10000475|             R3|            1|      AA-Wizard Shop|   10000475|           G2|       2|                |816-455-8733|          2|               S16|          C|\n",
      "|      10000478|             R3|            1|       Abacus Market|   10000478|           G2|       2|                |816-455-8733|          2|               S16|          C|\n",
      "|      10000480|             R2|            1|     Abbotsbury Shop|   10000480|           G2|       2|                |816-455-8733|          1|                S5|          C|\n",
      "|      10000481|             R2|            1|         Abbott Shop|   10000481|           G2|       2|                |816-455-8733|          4|                S5|          C|\n",
      "|      10000486|             R3|            1|       Aberdeen Shop|   10000486|           G2|       1|                |816-455-8733|          5|               S14|          C|\n",
      "+--------------+---------------+-------------+--------------------+-----------+-------------+--------+----------------+------------+-----------+------------------+-----------+\n",
      "only showing top 20 rows\n",
      "\n"
     ]
    }
   ],
   "source": [
    "df_clientes.show()"
   ]
  },
  {
   "cell_type": "code",
   "execution_count": 12,
   "metadata": {},
   "outputs": [],
   "source": [
    "# Função para verificar a existêncai de dados Null em um datafreme\n",
    "def verificar_val_null(df):\n",
    "    df.select([count(when(col(c).isNull(), c)).alias(c) for c in df.columns]).show()\n",
    "    \n",
    "    \n",
    "# Realiza a correção dos dados que são compostos apenas por espaços\n",
    "def corrigir_dados_formado_por_espaços(df):\n",
    "    for c in df.columns:\n",
    "        df = df.withColumn(c,rtrim(df[c]))\n",
    "        df = df.withColumn(c, when(df[c] == '', 'NÃO INFORMADO')\\\n",
    "                                         .otherwise(df[c]))\n",
    "    return df\n",
    "\n",
    "# Realiza a correção dos dados que são nulos na tabela de acordo com o tipo e a regrea de negocio\n",
    "def corrigir_dados_null(df):\n",
    "    for c in df.columns:\n",
    "        if (str(df.schema[c].dataType) == 'StringType'):\n",
    "            df = df.withColumn(c, when(df[c].isNull(), 'NÃO INFORMADO').otherwise(df[c]))\n",
    "        elif (str(df.schema[c].dataType) == 'DoubleType'):\n",
    "            df = df.withColumn(c, when(df[c].isNull(), 0.0).otherwise(df[c]))\n",
    "        elif (str(df.schema[c].dataType) == 'IntegerType'):\n",
    "            df = df.withColumn(c, when(df[c].isNull(), 0).otherwise(df[c]))\n",
    "    return df\n",
    "\n",
    "\n",
    "# Corrigir as colunas que estão com os tipos errados de dados (não é valido para datas)\n",
    "def converter_tipo_coluna(df, colunas, tipo):\n",
    "    if type(colunas) != list:\n",
    "        colunas = [colunas] \n",
    "    for col_name in colunas:\n",
    "        df = df.withColumn(col_name, col(col_name).cast(tipo))       \n",
    "    return df"
   ]
  },
  {
   "cell_type": "code",
   "execution_count": 13,
   "metadata": {},
   "outputs": [
    {
     "name": "stdout",
     "output_type": "stream",
     "text": [
      "+--------------+---------------+-------------+--------+-----------+-------------+--------+----------------+-----+-----------+------------------+-----------+\n",
      "|Address Number|Business Family|Business Unit|Customer|CustomerKey|Customer Type|Division|Line of Business|Phone|Region Code|Regional Sales Mgr|Search Type|\n",
      "+--------------+---------------+-------------+--------+-----------+-------------+--------+----------------+-----+-----------+------------------+-----------+\n",
      "|             0|              0|            0|       0|          0|            0|       0|               0|    0|          0|                 0|          0|\n",
      "+--------------+---------------+-------------+--------+-----------+-------------+--------+----------------+-----+-----------+------------------+-----------+\n",
      "\n"
     ]
    }
   ],
   "source": [
    "# Verificando a existência de dados Null ou NaN\n",
    "verificar_val_null(df_clientes)"
   ]
  },
  {
   "cell_type": "code",
   "execution_count": 14,
   "metadata": {},
   "outputs": [
    {
     "name": "stdout",
     "output_type": "stream",
     "text": [
      "+--------------+---------------+-------------+--------------------+-----------+-------------+--------+----------------+------------+-----------+------------------+-----------+\n",
      "|Address Number|Business Family|Business Unit|            Customer|CustomerKey|Customer Type|Division|Line of Business|       Phone|Region Code|Regional Sales Mgr|Search Type|\n",
      "+--------------+---------------+-------------+--------------------+-----------+-------------+--------+----------------+------------+-----------+------------------+-----------+\n",
      "|      10000472|             R3|            1|         Aaron Store|   10000472|           G2|       2|   NÃO INFORMADO|816-455-8733|          1|                S4|          C|\n",
      "|      10025769|             R3|            1|         UUmail Shop|   10025769|           G2|       2|   NÃO INFORMADO|816-455-8733|          1|                S1|          C|\n",
      "|      10003882|             R3|            1|   Beech Supermarket|   10003882|           G2|       1|   NÃO INFORMADO|816-455-8733|          5|               S16|          C|\n",
      "|      10019469|             R3|            1|            kGS Shop|   10019469|           G2|       1|   NÃO INFORMADO|816-455-8733|          5|                S1|          C|\n",
      "|      10023235|             R2|            1|    ReviewBooth Shop|   10023235|           G2|       2|   NÃO INFORMADO|816-455-8733|          2|                S3|          C|\n",
      "|      10003795|             R3|            1| Bechtel Supermarket|   10003795|           G2|       2|   NÃO INFORMADO|816-455-8733|          2|               S16|          C|\n",
      "|      10009631|             R3|            1|       Clearout Shop|   10009631|           G2|       2|   NÃO INFORMADO|816-455-8733|          1|               S16|          C|\n",
      "|      10019512|             R3|            1|          Kim Market|   10019512|           G2|       1|   NÃO INFORMADO|816-455-8733|          5|               S16|          C|\n",
      "|      10020868|             R3|            1|          One Market|   10020868|           G2|       1|   NÃO INFORMADO|816-455-8733|          5|                S1|          C|\n",
      "|      10021184|             R3|            1| Pacific Supermarket|   10021184|           G2|       2|   NÃO INFORMADO|816-455-8733|          1|               S16|          C|\n",
      "|      10025298|             R3|            1|      U. Supermarket|   10025298|           G3|       1|   NÃO INFORMADO|816-455-8733|          0|               S17|          C|\n",
      "|      10010882|             R3|            1|     EDA Supermarket|   10010882|           G2|       1|   NÃO INFORMADO|816-455-8733|          5|               S16|          I|\n",
      "|      10021459|             O2|            1|        Papyrus Shop|   10021459|           G2|       2|   NÃO INFORMADO|816-455-8733|          2|               S12|          C|\n",
      "|      10009885|             R3|            1|Degolyer Supermarket|   10009885|           G3|       1|   NÃO INFORMADO|816-455-8733|          0|                S5|          C|\n",
      "|      10013312|             R2|            1|        Gate9th Shop|   10013312|           G2|       1|   NÃO INFORMADO|816-455-8733|          5|                S9|          C|\n",
      "|      10017638|             R3|            1|    Kellys Gigastore|   10017638|           G2|       2|   NÃO INFORMADO|816-455-8733|          3|               S16|          C|\n",
      "|      10026078|             R3|            1|         Venred Shop|   10026078|           G2|       2|   NÃO INFORMADO|816-455-8733|          4|               S16|          C|\n",
      "|      10026438|             R3|            1|   PLAINFIELD Market|   10026438|           G1|       1|              M1|816-455-8733|          5|               S19|          C|\n",
      "|      10010832|             R2|            1|       ?change Store|   10010832|           G2|       1|   NÃO INFORMADO|816-455-8733|          5|               S11|          C|\n",
      "|      10019514|             R2|            1| Kimball Supermarket|   10019514|           G2|       1|   NÃO INFORMADO|816-455-8733|          5|                S4|          C|\n",
      "+--------------+---------------+-------------+--------------------+-----------+-------------+--------+----------------+------------+-----------+------------------+-----------+\n",
      "only showing top 20 rows\n",
      "\n"
     ]
    }
   ],
   "source": [
    "'''\n",
    "Como a tabale não possui valores Null ou NaN, é necessário apenas alterar a coluna \"Line of Business\" que possuia a \n",
    "str \"   \" (três espaços) representando o campo não informado.\n",
    "'''\n",
    "df_clientes = corrigir_dados_formado_por_espaços(df_clientes)\n",
    "df_clientes = df_clientes.dropDuplicates(['CustomerKey'])\n",
    "\n",
    "df_clientes.show()"
   ]
  },
  {
   "cell_type": "code",
   "execution_count": 15,
   "metadata": {},
   "outputs": [
    {
     "name": "stdout",
     "output_type": "stream",
     "text": [
      "root\n",
      " |-- Address Number: integer (nullable = true)\n",
      " |-- City: string (nullable = true)\n",
      " |-- Country: string (nullable = true)\n",
      " |-- Customer Address 1: string (nullable = true)\n",
      " |-- Customer Address 2: string (nullable = true)\n",
      " |-- Customer Address 3: string (nullable = true)\n",
      " |-- Customer Address 4: string (nullable = true)\n",
      " |-- State: string (nullable = true)\n",
      " |-- Zip Code: string (nullable = true)\n",
      "\n"
     ]
    }
   ],
   "source": [
    "df_endereco.printSchema()"
   ]
  },
  {
   "cell_type": "code",
   "execution_count": 16,
   "metadata": {},
   "outputs": [
    {
     "name": "stdout",
     "output_type": "stream",
     "text": [
      "+--------------+--------------------+-------+--------------------+--------------------+--------------------+--------------------+-----+------------+\n",
      "|Address Number|                City|Country|  Customer Address 1|  Customer Address 2|  Customer Address 3|  Customer Address 4|State|    Zip Code|\n",
      "+--------------+--------------------+-------+--------------------+--------------------+--------------------+--------------------+-----+------------+\n",
      "|      10000000|               Akron|     US|         PO Box 6258|                 ...|                 ...|                 ...|   OH|       44312|\n",
      "|      10000453|                 ...|     UK|                 ...|                 ...|                 ...|                 ...| null|            |\n",
      "|      10000455|    Huntington Beach|     US|   7392 Count Circle|                 ...|                 ...|                 ...|   CA|       92647|\n",
      "|      10000456|            Edmonton|     CA|    8151 Wagner Road|                 ...|                 ...|                 ...|   AB|     T6E 4N6|\n",
      "|      10000458|             Saginaw|     US|          PO Box 840|                 ...|                 ...|                 ...|   MI|       48606|\n",
      "|      10000460|      Goodlettsville|     US|709 Rivergate Par...|                 ...|                 ...|                 ...|   TN|       37072|\n",
      "|      10000461|        Boucherville|     CA|     1391 Gay Lussac|                 ...|                 ...|                 ...|   QU|     J4B 7K1|\n",
      "|      10000462|           Hazelwood|     US|6311 North Lindbe...|                 ...|                 ...|                 ...|   MO|       63042|\n",
      "|      10000466|     North Highlands|     US|3213 Orange Grove...|                 ...|                 ...|                 ...|   CA|       95660|\n",
      "|      10000469|            Montreal|     CA|Attention:  Accou...|7025 Ontario Stre...|                 ...|                 ...|   QU|     H1N 2B3|\n",
      "|      10000471|              Jeddah|     AU|    Al Thalia Street|        PO Box 11605|                 ...|                 ...| null|       11443|\n",
      "|      10000472|            Van Nuys|     US| 8000 Haskell Avenue|                 ...|                 ...|                 ...|   CA|       91406|\n",
      "|      10000473|      Rancho Cordova|     US|3290 Monier Circl...|                 ...|                 ...|                 ...|   CA|       95742|\n",
      "|      10000474|          Des Moines|     US|         PO Box 3265|                 ...|                 ...|                 ...|   IA|       50316|\n",
      "|      10000475|           Charlotte|     US| 5745 N Tryon Street|                 ...|                 ...|                 ...|   NC|       28213|\n",
      "|      10000478|         Little Rock|     US|8120 E Doyle Spri...|                 ...|                 ...|                 ...|   AR|       72209|\n",
      "|      10000480|             Phoenix|     US|Attention: Accoun...|        PO Box 21502|                 ...|                 ...|   AZ|  85036-1502|\n",
      "|      10000481|             Chicago|     US|            Box 5516|                 ...|                 ...|                 ...|   IL|       60680|\n",
      "|      10000601|           Creedmoor|     US|  1550 Aereli Avenue|                 ...|                 ...|                 ...|   NC|       27522|\n",
      "|      10002220|       Prince George|     CA|1594 Nicholson St...|                 ...|                 ...|                 ...|   BC|     V2N 1V6|\n",
      "+--------------+--------------------+-------+--------------------+--------------------+--------------------+--------------------+-----+------------+\n",
      "only showing top 20 rows\n",
      "\n"
     ]
    }
   ],
   "source": [
    "df_endereco.show()"
   ]
  },
  {
   "cell_type": "code",
   "execution_count": 17,
   "metadata": {},
   "outputs": [
    {
     "name": "stdout",
     "output_type": "stream",
     "text": [
      "+--------------+----+-------+------------------+------------------+------------------+------------------+-----+--------+\n",
      "|Address Number|City|Country|Customer Address 1|Customer Address 2|Customer Address 3|Customer Address 4|State|Zip Code|\n",
      "+--------------+----+-------+------------------+------------------+------------------+------------------+-----+--------+\n",
      "|             0|   0|      0|                 0|                 0|                 0|                 0|   70|       0|\n",
      "+--------------+----+-------+------------------+------------------+------------------+------------------+-----+--------+\n",
      "\n"
     ]
    }
   ],
   "source": [
    "# Verificando a existência de dados Null\n",
    "verificar_val_null(df_endereco)"
   ]
  },
  {
   "cell_type": "code",
   "execution_count": 18,
   "metadata": {},
   "outputs": [
    {
     "name": "stdout",
     "output_type": "stream",
     "text": [
      "+--------------+------------+-------+--------------------+--------------------+------------------+------------------+-------------+----------+\n",
      "|Address Number|        City|Country|  Customer Address 1|  Customer Address 2|Customer Address 3|Customer Address 4|        State|  Zip Code|\n",
      "+--------------+------------+-------+--------------------+--------------------+------------------+------------------+-------------+----------+\n",
      "|      10000472|    Van Nuys|     US| 8000 Haskell Avenue|       NÃO INFORMADO|     NÃO INFORMADO|     NÃO INFORMADO|           CA|     91406|\n",
      "|      10025769|     Redding|     US| 850 Commerce Street|       NÃO INFORMADO|     NÃO INFORMADO|     NÃO INFORMADO|           CA|     96002|\n",
      "|      10023235|     Houston|     US| 7600 South Santa Fe|       NÃO INFORMADO|     NÃO INFORMADO|     NÃO INFORMADO|           TX|     77061|\n",
      "|      10003795| Baton Rouge|     US|         PO Box 2484|       NÃO INFORMADO|     NÃO INFORMADO|     NÃO INFORMADO|           LA|     70815|\n",
      "|      10009631|      Corona|     US|  1477 Davril Circle|       NÃO INFORMADO|     NÃO INFORMADO|     NÃO INFORMADO|           CA|     92880|\n",
      "|      10021184|      Aurora|     US|14312 Stenbock Wa...|       NÃO INFORMADO|     NÃO INFORMADO|     NÃO INFORMADO|           OR|     97002|\n",
      "|      10025298|     Toronto|     CA|1111 Finch Avenue...|            Unit #22|     NÃO INFORMADO|     NÃO INFORMADO|           ON|   M3J 2E5|\n",
      "|      10021459|Olive Branch|     US|     Memphis PDC #19|Attention   Accou...|        PO Box 786|     NÃO INFORMADO|           MS|38654-3703|\n",
      "|      10009885|    Winnipeg|     CA|         PO Box 7100|       NÃO INFORMADO|     NÃO INFORMADO|     NÃO INFORMADO|           MB|   R3C 3B3|\n",
      "|      10017638|     Roanoke|     US|  Advance Auto Parts|Attn  Merchandise...|     P.O. Box 2710|     NÃO INFORMADO|           VA|     24001|\n",
      "|      10026078|     Bedford|     US|       PO Box 461090|       NÃO INFORMADO|     NÃO INFORMADO|     NÃO INFORMADO|           OH|     44146|\n",
      "|      10019617|      Spring|     US|        2445 FM 2920|       NÃO INFORMADO|     NÃO INFORMADO|     NÃO INFORMADO|           TX|     77388|\n",
      "|      10023538|  Fort Worth|     US|Attention: Accoun...|4900 Alliance Gat...|     NÃO INFORMADO|     NÃO INFORMADO|           TX|     76177|\n",
      "|      10025039|      Mentor|     US|    9049 Tyler Blvd.|       NÃO INFORMADO|     NÃO INFORMADO|     NÃO INFORMADO|           OH|     44060|\n",
      "|      10025052|  Songtan SI|     AU|  150-3 Chilkei-Dong|       NÃO INFORMADO|     NÃO INFORMADO|     NÃO INFORMADO|NÃO INFORMADO|   459-050|\n",
      "|      10025246|    Winnepeg|     CA|515 Oak Point Hig...|       NÃO INFORMADO|     NÃO INFORMADO|     NÃO INFORMADO|           MB|   R2R 1V2|\n",
      "|      10025250|    Ooltewah|     US|  8503 Hilltop Drive|       NÃO INFORMADO|     NÃO INFORMADO|     NÃO INFORMADO|           TN|     37363|\n",
      "|      10022470|Ormond Beach|     US|    Attention: Linda|100 Business Cent...|     NÃO INFORMADO|     NÃO INFORMADO|           FL|     32176|\n",
      "|      10023524|     Clemson|     US|         PO Box 1006|       NÃO INFORMADO|     NÃO INFORMADO|     NÃO INFORMADO|           SC|     29633|\n",
      "|      10008593|    Highland|     US|           PO Box 99|       NÃO INFORMADO|     NÃO INFORMADO|     NÃO INFORMADO|           IL|     62249|\n",
      "+--------------+------------+-------+--------------------+--------------------+------------------+------------------+-------------+----------+\n",
      "only showing top 20 rows\n",
      "\n"
     ]
    }
   ],
   "source": [
    "'''\n",
    "Pela inspeção visual foi possível perceber que uma série de colunas possui dados faltentes, onde esses campos são preenchido \n",
    "por um conjunto de espaços (space). Dependendo da coluna a quantidade de espaços variam. No intuito de uniformizar os campos\n",
    "que não possuiam dados apenas espaços, foi utilizado a função rtrim (remove espaços a direita).O resultado da aplicação desta\n",
    "função nos campos onde só possuiam espaços é o retorno do campo vazio (''). Logo, aplicando a substituição dos valores nos \n",
    "campos vazios, resolvemos uma parte do problema.\n",
    "\n",
    "O segundo problema encontrado na tabela foi 70 valores Null na coluna 'state'. Então foi utilizado o método isNull para\n",
    "identificar os campos nulos e a função when para subsitui-los.\n",
    "'''\n",
    "\n",
    "df_endereco = corrigir_dados_formado_por_espaços(df_endereco)\n",
    "df_endereco = corrigir_dados_null(df_endereco)\n",
    "\n",
    "# Corrigindo o valor duplicado \"10021911\" da colluna Address Number, que assim como na tabela de cliente possui as PK repetidas\n",
    "df_endereco = df_endereco.dropDuplicates(['Address Number'])\n",
    "df_endereco.show()"
   ]
  },
  {
   "cell_type": "code",
   "execution_count": 19,
   "metadata": {},
   "outputs": [
    {
     "name": "stdout",
     "output_type": "stream",
     "text": [
      "+--------------+----+-------+------------------+------------------+------------------+------------------+-----+--------+\n",
      "|Address Number|City|Country|Customer Address 1|Customer Address 2|Customer Address 3|Customer Address 4|State|Zip Code|\n",
      "+--------------+----+-------+------------------+------------------+------------------+------------------+-----+--------+\n",
      "|             0|   0|      0|                 0|                 0|                 0|                 0|    0|       0|\n",
      "+--------------+----+-------+------------------+------------------+------------------+------------------+-----+--------+\n",
      "\n"
     ]
    }
   ],
   "source": [
    "# Verificando a existência de dados Null ou NaN\n",
    "verificar_val_null(df_endereco)"
   ]
  },
  {
   "cell_type": "code",
   "execution_count": 20,
   "metadata": {},
   "outputs": [
    {
     "name": "stdout",
     "output_type": "stream",
     "text": [
      "+--------------------+-----------+----------+---------------+------------+--------------+----------+-----------+--------------------+-----------+----------+------------+----------------------+------------+--------------------------------+-----------------+-------------------+-----------+--------------+---------+---+\n",
      "|Actual Delivery Date|CustomerKey|   DateKey|Discount Amount|Invoice Date|Invoice Number|Item Class|Item Number|                Item|Line Number|List Price|Order Number|Promised Delivery Date|Sales Amount|Sales Amount Based on List Price|Sales Cost Amount|Sales Margin Amount|Sales Price|Sales Quantity|Sales Rep|U/M|\n",
      "+--------------------+-----------+----------+---------------+------------+--------------+----------+-----------+--------------------+-----------+----------+------------+----------------------+------------+--------------------------------+-----------------+-------------------+-----------+--------------+---------+---+\n",
      "|          28/04/2019|   10000481|28/04/2018|        -237,91|  30/04/2018|        100012|      null|       null|    Urban Large Eggs|       2000|         0|      200015|            28/04/2019|      237,91|                               0|                0|             237,91|     237,91|             1|      184| EA|\n",
      "|          12/07/2019|   10002220|12/07/2018|         368,79|  14/07/2018|        100233|       P01|      20910|  Moms Sliced Turkey|       1000|    824,96|      200245|            12/07/2019|      456,17|                          824,96|                0|             456,17|     456,17|             1|      127| EA|\n",
      "|          14/10/2019|   10002220|15/10/2018|         109,73|  17/10/2018|        116165|       P01|      38076|Cutting Edge Foot...|       1000|    548,66|      213157|            14/10/2019|      438,93|                          548,66|                0|             438,93|     438,93|             1|      127| EA|\n",
      "|          01/06/2019|   10002489|01/06/2018|        -211,75|  03/06/2018|        100096|      null|       null|            Kiwi Lox|       1000|         0|      200107|            01/06/2019|      211,75|                               0|                0|             211,75|     211,75|             1|      160| EA|\n",
      "|          26/05/2019|   10004516|25/05/2018|       96627,94|  27/05/2018|        103341|       P01|      60776|High Top Sweet Onion|       1000|    408,52|      203785|            26/05/2019|    89248,66|                        185876,6|                0|           89248,66|196,1509011|           455|      124| SE|\n",
      "|          28/05/2019|   10004516|28/05/2018|          -1950|  30/05/2018|        103610|      null|       null|Best Choice Fudge...|       2000|         0|      203785|            28/05/2019|        1950|                               0|                0|               1950|       1950|             1|      124| EA|\n",
      "|          01/09/2019|   10007866|01/09/2018|        371,014|  03/09/2018|        100403|       P01|      20910|  Moms Sliced Turkey|       2000|   795,314|      200436|            01/09/2019|       424,3|                         795,314|                0|              424,3|      424,3|             1|      149| EA|\n",
      "|          16/06/2019|   10009356|16/06/2018|         608,08|  18/06/2018|        105481|       P01|      62550|    Tell Tale Garlic|      29000|       575|      205213|            16/06/2019|      541,92|                            1150|                0|             541,92|     270,96|             2|      103| EA|\n",
      "|          16/06/2019|   10009356|16/06/2018|          424,8|  18/06/2018|        105481|       P01|      60794|    High Top Walnuts|      18000|     51,88|      205213|            16/06/2019|       353,4|                           778,2|                0|              353,4|      23,56|            15|      103| EA|\n",
      "|          16/06/2019|   10009356|16/06/2018|        13492,8|  18/06/2018|        105481|       P01|      36001|Big Time Frozen C...|       9000|    412,03|      205213|            16/06/2019|       11229|                         24721,8|                0|              11229|     187,15|            60|      103| EA|\n",
      "|          16/06/2019|   10009356|16/06/2018|        10481,1|  18/06/2018|        105481|       P01|      38076|Cutting Edge Foot...|      13000|    548,66|      205213|            16/06/2019|        8722|                         19203,1|                0|               8722|      249,2|            35|      103| EA|\n",
      "|          16/06/2019|   10009356|16/06/2018|       404,1465|  18/06/2018|        105481|       P01|      61484|Super Creamy Pean...|      37000|   50,5051|      205213|            16/06/2019|      353,43|                        757,5765|                0|             353,43|     23,562|            15|      103| EA|\n",
      "|          14/09/2019|   10009606|14/09/2018|      1287,3476|  16/09/2018|        100445|       P01|      17801|Better Fancy Cann...|       3000| 1379,7938|      200478|            14/09/2019|     1472,24|                       2759,5876|                0|            1472,24|     736,12|             2|      118| EA|\n",
      "|          14/09/2019|   10009606|14/09/2018|        4764,33|  16/09/2018|        100445|       P01|      48500|Red Spade Low Fat...|       1000|   1134,77|      200478|            14/09/2019|      5448,6|                        10212,93|                0|             5448,6|      605,4|             9|      118| EA|\n",
      "|          04/06/2019|   10009633|08/06/2018|        -526,64|  10/06/2018|        104708|      null|      38631|    Jumbo Large Eggs|       1000|         0|      204575|            04/06/2019|      526,64|                               0|                0|             526,64|     526,64|             1|      127| EA|\n",
      "|          16/08/2019|   10009633|18/08/2018|              0|  20/08/2018|        100379|       P01|      60449|High Top Corn on ...|       1000|    346,53|      200397|            16/08/2019|      346,53|                          346,53|                0|             346,53|     346,53|             1|      127| EA|\n",
      "|          12/11/2019|   10009645|15/11/2018|              0|  17/11/2018|        100684|      null|      61801|Moms Low Fat Bologna|       2000|    258,01|      200733|            12/11/2019|     3096,12|                         3096,12|                0|            3096,12|     258,01|            12|      155| EA|\n",
      "|          12/05/2019|   10009652|12/05/2018|             91|  14/05/2018|        102256|      null|      63113|Landslide Columbi...|       1000|      5,61|      202989|            12/05/2019|      1872,5|                          1963,5|                0|             1872,5|       5,35|           350|      145| EA|\n",
      "|          12/05/2019|   10009652|12/05/2018|           -700|  14/05/2018|        102256|      null|       null|High Top Dried Mu...|       2000|         0|      202989|            12/05/2019|         700|                               0|                0|                700|          2|           350|      145| EA|\n",
      "|          04/11/2019|   10009907|04/11/2018|          786,6|  06/11/2018|        117815|       P01|      38050|Gorilla Chocolate...|       2000|    301,23|      200706|            04/11/2019|      418,32|                         1204,92|                0|             418,32|     104,58|             4|      167| EA|\n",
      "+--------------------+-----------+----------+---------------+------------+--------------+----------+-----------+--------------------+-----------+----------+------------+----------------------+------------+--------------------------------+-----------------+-------------------+-----------+--------------+---------+---+\n",
      "only showing top 20 rows\n",
      "\n"
     ]
    }
   ],
   "source": [
    "df_vendas.show()"
   ]
  },
  {
   "cell_type": "code",
   "execution_count": 21,
   "metadata": {},
   "outputs": [
    {
     "name": "stdout",
     "output_type": "stream",
     "text": [
      "root\n",
      " |-- Actual Delivery Date: string (nullable = true)\n",
      " |-- CustomerKey: integer (nullable = true)\n",
      " |-- DateKey: string (nullable = true)\n",
      " |-- Discount Amount: string (nullable = true)\n",
      " |-- Invoice Date: string (nullable = true)\n",
      " |-- Invoice Number: integer (nullable = true)\n",
      " |-- Item Class: string (nullable = true)\n",
      " |-- Item Number: string (nullable = true)\n",
      " |-- Item: string (nullable = true)\n",
      " |-- Line Number: integer (nullable = true)\n",
      " |-- List Price: string (nullable = true)\n",
      " |-- Order Number: integer (nullable = true)\n",
      " |-- Promised Delivery Date: string (nullable = true)\n",
      " |-- Sales Amount: string (nullable = true)\n",
      " |-- Sales Amount Based on List Price: string (nullable = true)\n",
      " |-- Sales Cost Amount: string (nullable = true)\n",
      " |-- Sales Margin Amount: string (nullable = true)\n",
      " |-- Sales Price: string (nullable = true)\n",
      " |-- Sales Quantity: integer (nullable = true)\n",
      " |-- Sales Rep: integer (nullable = true)\n",
      " |-- U/M: string (nullable = true)\n",
      "\n"
     ]
    }
   ],
   "source": [
    "df_vendas.printSchema()"
   ]
  },
  {
   "cell_type": "code",
   "execution_count": 22,
   "metadata": {},
   "outputs": [
    {
     "name": "stdout",
     "output_type": "stream",
     "text": [
      "+--------------------+-----------+-------+---------------+------------+--------------+----------+-----------+----+-----------+----------+------------+----------------------+------------+--------------------------------+-----------------+-------------------+-----------+--------------+---------+---+\n",
      "|Actual Delivery Date|CustomerKey|DateKey|Discount Amount|Invoice Date|Invoice Number|Item Class|Item Number|Item|Line Number|List Price|Order Number|Promised Delivery Date|Sales Amount|Sales Amount Based on List Price|Sales Cost Amount|Sales Margin Amount|Sales Price|Sales Quantity|Sales Rep|U/M|\n",
      "+--------------------+-----------+-------+---------------+------------+--------------+----------+-----------+----+-----------+----------+------------+----------------------+------------+--------------------------------+-----------------+-------------------+-----------+--------------+---------+---+\n",
      "|                 253|        253|    253|            255|         253|           253|      8542|        294| 253|        253|       253|         253|                   253|         253|                             253|              253|                253|        254|           253|      253|253|\n",
      "+--------------------+-----------+-------+---------------+------------+--------------+----------+-----------+----+-----------+----------+------------+----------------------+------------+--------------------------------+-----------------+-------------------+-----------+--------------+---------+---+\n",
      "\n"
     ]
    }
   ],
   "source": [
    "# Verificando a existência de dados Null ou NaN\n",
    "verificar_val_null(df_vendas)"
   ]
  },
  {
   "cell_type": "code",
   "execution_count": 23,
   "metadata": {},
   "outputs": [
    {
     "name": "stdout",
     "output_type": "stream",
     "text": [
      "+--------------------+-----------+-------+---------------+------------+--------------+----------+-----------+----+-----------+----------+------------+----------------------+------------+--------------------------------+-----------------+-------------------+-----------+--------------+---------+----+\n",
      "|Actual Delivery Date|CustomerKey|DateKey|Discount Amount|Invoice Date|Invoice Number|Item Class|Item Number|Item|Line Number|List Price|Order Number|Promised Delivery Date|Sales Amount|Sales Amount Based on List Price|Sales Cost Amount|Sales Margin Amount|Sales Price|Sales Quantity|Sales Rep| U/M|\n",
      "+--------------------+-----------+-------+---------------+------------+--------------+----------+-----------+----+-----------+----------+------------+----------------------+------------+--------------------------------+-----------------+-------------------+-----------+--------------+---------+----+\n",
      "|                null|       null|   null|           null|        null|          null|      null|       null|null|       null|      null|        null|                  null|        null|                            null|             null|               null|       null|          null|     null|null|\n",
      "|                null|       null|   null|           null|        null|          null|      null|       null|null|       null|      null|        null|                  null|        null|                            null|             null|               null|       null|          null|     null|null|\n",
      "|                null|       null|   null|           null|        null|          null|      null|       null|null|       null|      null|        null|                  null|        null|                            null|             null|               null|       null|          null|     null|null|\n",
      "|                null|       null|   null|           null|        null|          null|      null|       null|null|       null|      null|        null|                  null|        null|                            null|             null|               null|       null|          null|     null|null|\n",
      "|                null|       null|   null|           null|        null|          null|      null|       null|null|       null|      null|        null|                  null|        null|                            null|             null|               null|       null|          null|     null|null|\n",
      "+--------------------+-----------+-------+---------------+------------+--------------+----------+-----------+----+-----------+----------+------------+----------------------+------------+--------------------------------+-----------------+-------------------+-----------+--------------+---------+----+\n",
      "only showing top 5 rows\n",
      "\n"
     ]
    }
   ],
   "source": [
    "'''\n",
    "É possivel verificar que algumas linhas possuem todos os campos nulos, logo, iremos deletar todas estas linhas. Para selecionar\n",
    "as linhas onde todos os campos são nulos, basta verificar as 3 primeiras colunas.\n",
    "'''\n",
    "df_vendas.filter(((col(\"Actual Delivery Date\").isNull()) & (col(\"CustomerKey\").isNull()) & (col(\"DateKey\").isNull()))).show(5)"
   ]
  },
  {
   "cell_type": "code",
   "execution_count": 24,
   "metadata": {},
   "outputs": [],
   "source": [
    "# Removendo do dataframe todas as linhas que possuem todos os campos nulos\n",
    "df_vendas = df_vendas.filter(((col(\"Actual Delivery Date\").isNotNull())\\\n",
    "                              & (col(\"CustomerKey\").isNotNull())\\\n",
    "                              & (col(\"DateKey\").isNotNull())))"
   ]
  },
  {
   "cell_type": "code",
   "execution_count": 25,
   "metadata": {},
   "outputs": [
    {
     "name": "stdout",
     "output_type": "stream",
     "text": [
      "+--------------------+-----------+-------+---------------+------------+--------------+----------+-----------+----+-----------+----------+------------+----------------------+------------+--------------------------------+-----------------+-------------------+-----------+--------------+---------+---+\n",
      "|Actual Delivery Date|CustomerKey|DateKey|Discount Amount|Invoice Date|Invoice Number|Item Class|Item Number|Item|Line Number|List Price|Order Number|Promised Delivery Date|Sales Amount|Sales Amount Based on List Price|Sales Cost Amount|Sales Margin Amount|Sales Price|Sales Quantity|Sales Rep|U/M|\n",
      "+--------------------+-----------+-------+---------------+------------+--------------+----------+-----------+----+-----------+----------+------------+----------------------+------------+--------------------------------+-----------------+-------------------+-----------+--------------+---------+---+\n",
      "|                   0|          0|      0|              2|           0|             0|      8289|         41|   0|          0|         0|           0|                     0|           0|                               0|                0|                  0|          1|             0|        0|  0|\n",
      "+--------------------+-----------+-------+---------------+------------+--------------+----------+-----------+----+-----------+----------+------------+----------------------+------------+--------------------------------+-----------------+-------------------+-----------+--------------+---------+---+\n",
      "\n"
     ]
    }
   ],
   "source": [
    "# Verificando novamente a existência de dados Null ou NaN para visualizar se as linhas nulas foram removidas\n",
    "verificar_val_null(df_vendas)"
   ]
  },
  {
   "cell_type": "code",
   "execution_count": 26,
   "metadata": {},
   "outputs": [
    {
     "data": {
      "text/plain": [
       "'\\ndf_vendas = converter_tipo_coluna(df_vendas, \\'Item Number\\', \\'int\\')\\n\\ncols_dates = [\\'Actual Delivery Date\\', \\'DateKey\\', \\'Invoice Date\\', \\'Promised Delivery Date\\']\\n\\nfor col_name_data in cols_dates:\\n    df_vendas = df_vendas.withColumn(col_name_data, to_date(col(col_name_data),\"dd/MM/yyyy\"))\\n\\n    \\n# O separador decimal utilizado na base de dados é a virgula, logo, precisamos alteralo para o ponto. E aproveitando o loop \\n# vamos relizar o cast\\ncol_lis = [\\'Discount Amount\\', \\'List Price\\', \\'Sales Amount\\', \\'Sales Amount Based on List Price\\',           \\'Sales Cost Amount\\', \\'Sales Margin Amount\\', \\'Sales Price\\']\\n\\nfor coluna in col_lis:\\n    df_vendas = df_vendas.withColumn(coluna, round(regexp_replace(coluna,\\'\\\\,\\',\\'.\\').cast(\\'double\\'), 2))'"
      ]
     },
     "execution_count": 26,
     "metadata": {},
     "output_type": "execute_result"
    }
   ],
   "source": [
    "'''\n",
    "df_vendas = converter_tipo_coluna(df_vendas, 'Item Number', 'int')\n",
    "\n",
    "cols_dates = ['Actual Delivery Date', 'DateKey', 'Invoice Date', 'Promised Delivery Date']\n",
    "\n",
    "for col_name_data in cols_dates:\n",
    "    df_vendas = df_vendas.withColumn(col_name_data, to_date(col(col_name_data),\"dd/MM/yyyy\"))\n",
    "\n",
    "    \n",
    "# O separador decimal utilizado na base de dados é a virgula, logo, precisamos alteralo para o ponto. E aproveitando o loop \n",
    "# vamos relizar o cast\n",
    "col_lis = ['Discount Amount', 'List Price', 'Sales Amount', 'Sales Amount Based on List Price',\\\n",
    "           'Sales Cost Amount', 'Sales Margin Amount', 'Sales Price']\n",
    "\n",
    "for coluna in col_lis:\n",
    "    df_vendas = df_vendas.withColumn(coluna, round(regexp_replace(coluna,'\\,','.').cast('double'), 2))'''\n"
   ]
  },
  {
   "cell_type": "code",
   "execution_count": 27,
   "metadata": {},
   "outputs": [],
   "source": [
    "# Antes de continuar com limpeza dos dados vamos corrigir as colunas que estão com os tipos errados de dados\n",
    "df_vendas = converter_tipo_coluna(df_vendas, 'Item Number', 'int')\n",
    "\n",
    "cols_dates = ['Actual Delivery Date', 'DateKey', 'Invoice Date', 'Promised Delivery Date']\n",
    "\n",
    "for col_name_data in cols_dates:\n",
    "    df_vendas = df_vendas.withColumn(col_name_data, to_date(col(col_name_data),\"dd/MM/yyyy\"))\n",
    "\n",
    "    \n",
    "# O separador decimal utilizado na base de dados é a virgula, logo, precisamos alteralo para o ponto. E aproveitando o loop \n",
    "# vamos relizar o cast\n",
    "col_lis = ['Discount Amount', 'List Price', 'Sales Amount', 'Sales Amount Based on List Price',\\\n",
    "           'Sales Cost Amount', 'Sales Margin Amount', 'Sales Price']\n",
    "\n",
    "for coluna in col_lis:\n",
    "    df_vendas = df_vendas.withColumn(coluna, round(regexp_replace(coluna,'\\,','.').cast('double'), 2))"
   ]
  },
  {
   "cell_type": "code",
   "execution_count": 28,
   "metadata": {},
   "outputs": [],
   "source": [
    "# Realizando a limpeza dos dados que são nulos na tabela\n",
    "\n",
    "df_vendas = corrigir_dados_null(df_vendas)"
   ]
  },
  {
   "cell_type": "code",
   "execution_count": 29,
   "metadata": {},
   "outputs": [
    {
     "name": "stdout",
     "output_type": "stream",
     "text": [
      "+--------------------+-----------+-------+---------------+------------+--------------+----------+-----------+----+-----------+----------+------------+----------------------+------------+--------------------------------+-----------------+-------------------+-----------+--------------+---------+---+\n",
      "|Actual Delivery Date|CustomerKey|DateKey|Discount Amount|Invoice Date|Invoice Number|Item Class|Item Number|Item|Line Number|List Price|Order Number|Promised Delivery Date|Sales Amount|Sales Amount Based on List Price|Sales Cost Amount|Sales Margin Amount|Sales Price|Sales Quantity|Sales Rep|U/M|\n",
      "+--------------------+-----------+-------+---------------+------------+--------------+----------+-----------+----+-----------+----------+------------+----------------------+------------+--------------------------------+-----------------+-------------------+-----------+--------------+---------+---+\n",
      "|                   0|          0|      0|              0|           0|             0|         0|          0|   0|          0|         0|           0|                     0|           0|                               0|                0|                  0|          0|             0|        0|  0|\n",
      "+--------------------+-----------+-------+---------------+------------+--------------+----------+-----------+----+-----------+----------+------------+----------------------+------------+--------------------------------+-----------------+-------------------+-----------+--------------+---------+---+\n",
      "\n"
     ]
    }
   ],
   "source": [
    "# Verificando novamente a existência de dados Null ou NaN para visualizar se as linhas nulas foram removidas\n",
    "verificar_val_null(df_vendas)"
   ]
  },
  {
   "cell_type": "code",
   "execution_count": 30,
   "metadata": {},
   "outputs": [
    {
     "name": "stdout",
     "output_type": "stream",
     "text": [
      "+--------------------+-----------+----------+---------------+------------+--------------+-------------+-----------+--------------------+-----------+----------+------------+----------------------+------------+--------------------------------+-----------------+-------------------+-----------+--------------+---------+---+\n",
      "|Actual Delivery Date|CustomerKey|   DateKey|Discount Amount|Invoice Date|Invoice Number|   Item Class|Item Number|                Item|Line Number|List Price|Order Number|Promised Delivery Date|Sales Amount|Sales Amount Based on List Price|Sales Cost Amount|Sales Margin Amount|Sales Price|Sales Quantity|Sales Rep|U/M|\n",
      "+--------------------+-----------+----------+---------------+------------+--------------+-------------+-----------+--------------------+-----------+----------+------------+----------------------+------------+--------------------------------+-----------------+-------------------+-----------+--------------+---------+---+\n",
      "|          2019-04-28|   10000481|2018-04-28|        -237.91|  2018-04-30|        100012|NÃO INFORMADO|          0|    Urban Large Eggs|       2000|       0.0|      200015|            2019-04-28|      237.91|                             0.0|              0.0|             237.91|     237.91|             1|      184| EA|\n",
      "|          2019-07-12|   10002220|2018-07-12|         368.79|  2018-07-14|        100233|          P01|      20910|  Moms Sliced Turkey|       1000|    824.96|      200245|            2019-07-12|      456.17|                          824.96|              0.0|             456.17|     456.17|             1|      127| EA|\n",
      "|          2019-10-14|   10002220|2018-10-15|         109.73|  2018-10-17|        116165|          P01|      38076|Cutting Edge Foot...|       1000|    548.66|      213157|            2019-10-14|      438.93|                          548.66|              0.0|             438.93|     438.93|             1|      127| EA|\n",
      "|          2019-06-01|   10002489|2018-06-01|        -211.75|  2018-06-03|        100096|NÃO INFORMADO|          0|            Kiwi Lox|       1000|       0.0|      200107|            2019-06-01|      211.75|                             0.0|              0.0|             211.75|     211.75|             1|      160| EA|\n",
      "|          2019-05-26|   10004516|2018-05-25|       96627.94|  2018-05-27|        103341|          P01|      60776|High Top Sweet Onion|       1000|    408.52|      203785|            2019-05-26|    89248.66|                        185876.6|              0.0|           89248.66|     196.15|           455|      124| SE|\n",
      "+--------------------+-----------+----------+---------------+------------+--------------+-------------+-----------+--------------------+-----------+----------+------------+----------------------+------------+--------------------------------+-----------------+-------------------+-----------+--------------+---------+---+\n",
      "only showing top 5 rows\n",
      "\n"
     ]
    }
   ],
   "source": [
    "df_vendas.show(5)"
   ]
  },
  {
   "cell_type": "code",
   "execution_count": 31,
   "metadata": {},
   "outputs": [
    {
     "name": "stdout",
     "output_type": "stream",
     "text": [
      "root\n",
      " |-- Actual Delivery Date: date (nullable = true)\n",
      " |-- CustomerKey: integer (nullable = true)\n",
      " |-- DateKey: date (nullable = true)\n",
      " |-- Discount Amount: double (nullable = true)\n",
      " |-- Invoice Date: date (nullable = true)\n",
      " |-- Invoice Number: integer (nullable = true)\n",
      " |-- Item Class: string (nullable = true)\n",
      " |-- Item Number: integer (nullable = true)\n",
      " |-- Item: string (nullable = true)\n",
      " |-- Line Number: integer (nullable = true)\n",
      " |-- List Price: double (nullable = true)\n",
      " |-- Order Number: integer (nullable = true)\n",
      " |-- Promised Delivery Date: date (nullable = true)\n",
      " |-- Sales Amount: double (nullable = true)\n",
      " |-- Sales Amount Based on List Price: double (nullable = true)\n",
      " |-- Sales Cost Amount: double (nullable = true)\n",
      " |-- Sales Margin Amount: double (nullable = true)\n",
      " |-- Sales Price: double (nullable = true)\n",
      " |-- Sales Quantity: integer (nullable = true)\n",
      " |-- Sales Rep: integer (nullable = true)\n",
      " |-- U/M: string (nullable = true)\n",
      "\n"
     ]
    }
   ],
   "source": [
    "df_vendas.printSchema()"
   ]
  },
  {
   "cell_type": "code",
   "execution_count": 32,
   "metadata": {},
   "outputs": [],
   "source": [
    "'''\n",
    "5 - efetuar as responder as perguntas:\n",
    "\n",
    "- quantos pedidos foram realizados\n",
    "- quantos clientes tem em nossa base\n",
    "- quantos clientes temos por Região\n",
    "- quantidade de vendas em 2018\n",
    "'''\n",
    "\n",
    "# Criando as views:\n",
    "df_endereco.createOrReplaceTempView('vw_endereco')\n",
    "df_divisao.createOrReplaceTempView('vw_divisao')\n",
    "df_clientes.createOrReplaceTempView('vw_clientes')\n",
    "df_vendas.createOrReplaceTempView('vw_vendas')\n",
    "df_regiao.createOrReplaceTempView('vw_regiao')"
   ]
  },
  {
   "cell_type": "code",
   "execution_count": 33,
   "metadata": {},
   "outputs": [
    {
     "name": "stdout",
     "output_type": "stream",
     "text": [
      "+------------+------------+\n",
      "|min(DateKey)|max(DateKey)|\n",
      "+------------+------------+\n",
      "|  2017-01-09|  2019-03-18|\n",
      "+------------+------------+\n",
      "\n"
     ]
    }
   ],
   "source": [
    "# Intervalo minimo de datas necessária para criação do DW\n",
    "spark.sql('''\n",
    "        SELECT MIN(DateKey), MAX(DateKey) FROM vw_vendas\n",
    "''').show()"
   ]
  },
  {
   "cell_type": "code",
   "execution_count": 34,
   "metadata": {},
   "outputs": [
    {
     "name": "stdout",
     "output_type": "stream",
     "text": [
      "+----------+\n",
      "|   DateKey|\n",
      "+----------+\n",
      "|2017-01-09|\n",
      "|2017-01-10|\n",
      "+----------+\n",
      "only showing top 2 rows\n",
      "\n"
     ]
    }
   ],
   "source": [
    "df_data_ST = spark.sql('''\n",
    "                SELECT \n",
    "                EXPLODE(SEQUENCE(TO_DATE('2017-01-09'), TO_DATE('2019-03-18'), INTERVAL 1 DAY)) as DateKey''')\n",
    "\n",
    "df_data_ST.show(2)"
   ]
  },
  {
   "cell_type": "code",
   "execution_count": 35,
   "metadata": {},
   "outputs": [],
   "source": [
    "df_time_ST = spark.sql('''\n",
    "                SELECT\n",
    "                DateKey,\n",
    "                DAY(DateKey) AS Day, \n",
    "                MONTH(DateKey) AS Month,\n",
    "                DATE_FORMAT(DateKey,\"MMMM\") AS Month_Name,\n",
    "                YEAR(DateKey) as Year,\n",
    "                QUARTER(DateKey) as Quarter\n",
    "                FROM(\n",
    "                SELECT \n",
    "                EXPLODE(SEQUENCE(TO_DATE('2017-01-09'), TO_DATE('2019-03-18'), INTERVAL 1 DAY)) as DateKey)''')\n",
    "\n",
    "\n",
    "df_time_ST.createOrReplaceTempView('vw_time_ST')\n"
   ]
  },
  {
   "cell_type": "code",
   "execution_count": 36,
   "metadata": {},
   "outputs": [],
   "source": [
    "# Desnormalizando os dados (apenas com as colunas de interesse):\n",
    "\n",
    "# Junção das tabelas df_cliente, df_divisao e df_regiao\n",
    "df_clientes_ST = spark.sql('''\n",
    "            SELECT \n",
    "            vw_clientes.CustomerKey,\n",
    "            vw_clientes.Customer,\n",
    "            vw_clientes.`Business Family` as Business_Family,\n",
    "            vw_clientes.`Customer Type` as Customer_Type,\n",
    "            vw_clientes.`Address Number` as Address_Number,\n",
    "            vw_divisao.`Division Name` as Division_Name,\n",
    "            vw_regiao.`Region Name` as Region_Name          \n",
    "            FROM vw_clientes\n",
    "            INNER JOIN vw_divisao\n",
    "            ON vw_clientes.`Division` = vw_divisao.`Division`\n",
    "            INNER JOIN vw_regiao\n",
    "            ON vw_clientes.`Region Code` = vw_regiao.`Region Code`\n",
    "''')\n",
    "df_clientes_ST.createOrReplaceTempView('vw_clientes_ST')\n",
    "# df_clientes_ST.filter(col('CustomerKey') == '10013312').show()"
   ]
  },
  {
   "cell_type": "code",
   "execution_count": 37,
   "metadata": {},
   "outputs": [
    {
     "name": "stdout",
     "output_type": "stream",
     "text": [
      "+-----------+---------+---------------+-------------+--------------+-------------+-----------+\n",
      "|CustomerKey| Customer|Business_Family|Customer_Type|Address_Number|Division_Name|Region_Name|\n",
      "+-----------+---------+---------------+-------------+--------------+-------------+-----------+\n",
      "|   10021911|PING Shop|             R3|           G1|      10021911|     Domestic|   Southern|\n",
      "+-----------+---------+---------------+-------------+--------------+-------------+-----------+\n",
      "\n"
     ]
    }
   ],
   "source": [
    "spark.sql('''\n",
    "            SELECT *  \n",
    "            FROM vw_clientes_ST\n",
    "            where CustomerKey = '10021911' \n",
    "        ''').show()"
   ]
  },
  {
   "cell_type": "code",
   "execution_count": 38,
   "metadata": {},
   "outputs": [
    {
     "name": "stdout",
     "output_type": "stream",
     "text": [
      "+-----------+--------+---------------+-------------+--------------+-------------+-----------+\n",
      "|CustomerKey|Customer|Business_Family|Customer_Type|Address_Number|Division_Name|Region_Name|\n",
      "+-----------+--------+---------------+-------------+--------------+-------------+-----------+\n",
      "|          0|       0|              0|            0|             0|            0|          0|\n",
      "+-----------+--------+---------------+-------------+--------------+-------------+-----------+\n",
      "\n"
     ]
    }
   ],
   "source": [
    "# Analise do resultado do Join\n",
    "# df_clientes_ST.select(col('Customer_Type')).distinct().show()\n",
    "#df_clientes_ST.show(5)\n",
    "verificar_val_null(df_clientes_ST)"
   ]
  },
  {
   "cell_type": "code",
   "execution_count": 39,
   "metadata": {},
   "outputs": [],
   "source": [
    "# Desnormalizando os dados \n",
    "# Junção das tabelas df_clientes_ST e df_endereco\n",
    "df_clientes_endereco_ST = spark.sql('''\n",
    "            SELECT \n",
    "            vw_clientes_ST.CustomerKey,\n",
    "            vw_clientes_ST.Customer,\n",
    "            vw_clientes_ST.Business_Family,\n",
    "            vw_clientes_ST.Customer_Type,\n",
    "            vw_clientes_ST.Address_Number,\n",
    "            vw_clientes_ST.Division_Name,\n",
    "            vw_clientes_ST.Region_Name, \n",
    "            \n",
    "            \n",
    "            vw_endereco.City,\n",
    "            vw_endereco.State,\n",
    "            vw_endereco.Country\n",
    "            \n",
    "            FROM vw_clientes_ST\n",
    "            LEFT JOIN vw_endereco\n",
    "            ON vw_clientes_ST.Address_Number = vw_endereco.`Address Number`\n",
    "''')"
   ]
  },
  {
   "cell_type": "code",
   "execution_count": 40,
   "metadata": {},
   "outputs": [
    {
     "name": "stdout",
     "output_type": "stream",
     "text": [
      "+-----------+--------+---------------+-------------+--------------+-------------+-----------+----+-----+-------+\n",
      "|CustomerKey|Customer|Business_Family|Customer_Type|Address_Number|Division_Name|Region_Name|City|State|Country|\n",
      "+-----------+--------+---------------+-------------+--------------+-------------+-----------+----+-----+-------+\n",
      "|          0|       0|              0|            0|             0|            0|          0| 229|  229|    229|\n",
      "+-----------+--------+---------------+-------------+--------------+-------------+-----------+----+-----+-------+\n",
      "\n"
     ]
    }
   ],
   "source": [
    "verificar_val_null(df_clientes_endereco_ST)"
   ]
  },
  {
   "cell_type": "code",
   "execution_count": 41,
   "metadata": {},
   "outputs": [],
   "source": [
    "df_clientes_endereco_ST = corrigir_dados_null(df_clientes_endereco_ST)\n",
    "\n",
    "df_clientes_endereco_ST.createOrReplaceTempView('vw_clientes_endereco_ST')"
   ]
  },
  {
   "cell_type": "code",
   "execution_count": 42,
   "metadata": {},
   "outputs": [
    {
     "name": "stdout",
     "output_type": "stream",
     "text": [
      "+-----------+--------+---------------+-------------+--------------+-------------+-----------+----+-----+-------+\n",
      "|CustomerKey|Customer|Business_Family|Customer_Type|Address_Number|Division_Name|Region_Name|City|State|Country|\n",
      "+-----------+--------+---------------+-------------+--------------+-------------+-----------+----+-----+-------+\n",
      "|          0|       0|              0|            0|             0|            0|          0|   0|    0|      0|\n",
      "+-----------+--------+---------------+-------------+--------------+-------------+-----------+----+-----+-------+\n",
      "\n"
     ]
    }
   ],
   "source": [
    "verificar_val_null(df_clientes_endereco_ST)"
   ]
  },
  {
   "cell_type": "code",
   "execution_count": 43,
   "metadata": {},
   "outputs": [],
   "source": [
    "df_tabela_desnormalizada_ST = spark.sql('''\n",
    "            SELECT \n",
    "            \n",
    "            vw_vendas.DateKey,\n",
    "            vw_vendas.`Discount Amount` as Discount_Amount,\n",
    "            vw_vendas.`Sales Cost Amount` as Sales_Cost_Amount,\n",
    "            vw_vendas.`Sales Price` as Sales_Price, \n",
    "            vw_vendas.`Sales Quantity` as Sales_Quantity,\n",
    "            \n",
    "            \n",
    "            vw_clientes_endereco_ST.CustomerKey,\n",
    "            vw_clientes_endereco_ST.Customer,\n",
    "            vw_clientes_endereco_ST.Business_Family,\n",
    "            vw_clientes_endereco_ST.Customer_Type,\n",
    "            \n",
    "            \n",
    "            vw_clientes_endereco_ST.Address_Number,\n",
    "            vw_clientes_endereco_ST.Division_Name,\n",
    "            vw_clientes_endereco_ST.Region_Name,\n",
    "            vw_clientes_endereco_ST.City,\n",
    "            vw_clientes_endereco_ST.State,\n",
    "            vw_clientes_endereco_ST.Country,\n",
    "            \n",
    "            vw_time_ST.Day, \n",
    "            vw_time_ST.Month,\n",
    "            vw_time_ST.Month_Name,\n",
    "            vw_time_ST.Year,\n",
    "            vw_time_ST.Quarter\n",
    "            \n",
    "            \n",
    "            FROM vw_vendas\n",
    "            LEFT JOIN vw_clientes_endereco_ST\n",
    "            ON vw_vendas.CustomerKey = vw_clientes_endereco_ST.CustomerKey\n",
    "            LEFT JOIN vw_time_ST\n",
    "            ON vw_vendas.DateKey = vw_time_ST.DateKey\n",
    "''')"
   ]
  },
  {
   "cell_type": "code",
   "execution_count": 44,
   "metadata": {},
   "outputs": [],
   "source": [
    "# Criando as HASH para cada dimensão:\n",
    "df_tabela_desnormalizada_ST = df_tabela_desnormalizada_ST.withColumn('sk_Customer',\n",
    "                                                                     sha2(concat_ws('',df_tabela_desnormalizada_ST.CustomerKey, \n",
    "                                                                                    df_tabela_desnormalizada_ST.Customer,\n",
    "                                                                                    df_tabela_desnormalizada_ST.Business_Family,\n",
    "                                                                                    df_tabela_desnormalizada_ST.Customer_Type),\n",
    "                                                                          256))\n",
    "\n",
    "df_tabela_desnormalizada_ST = df_tabela_desnormalizada_ST.withColumn('sk_Locality',\n",
    "                                                                     sha2(concat_ws('',df_tabela_desnormalizada_ST.Address_Number, \n",
    "                                                                                    df_tabela_desnormalizada_ST.Division_Name,\n",
    "                                                                                    df_tabela_desnormalizada_ST.City,\n",
    "                                                                                    df_tabela_desnormalizada_ST.State,\n",
    "                                                                                    df_tabela_desnormalizada_ST.Country),\n",
    "                                                                          256))\n",
    "\n",
    "df_tabela_desnormalizada_ST = df_tabela_desnormalizada_ST.withColumn('sk_Time',\n",
    "                                                                     sha2(concat_ws('',df_tabela_desnormalizada_ST.DateKey,\n",
    "                                                                                    df_tabela_desnormalizada_ST.Day, \n",
    "                                                                                    df_tabela_desnormalizada_ST.Month,\n",
    "                                                                                    df_tabela_desnormalizada_ST.Month_Name,\n",
    "                                                                                    df_tabela_desnormalizada_ST.Year,\n",
    "                                                                                    df_tabela_desnormalizada_ST.Quarter),\n",
    "                                                                          256))\n"
   ]
  },
  {
   "cell_type": "code",
   "execution_count": 45,
   "metadata": {},
   "outputs": [],
   "source": [
    "df_tabela_desnormalizada_ST.createOrReplaceTempView('vw_tabela_desnormalizada_ST')"
   ]
  },
  {
   "cell_type": "code",
   "execution_count": 46,
   "metadata": {},
   "outputs": [
    {
     "name": "stdout",
     "output_type": "stream",
     "text": [
      "+-------+---------------+-----------------+-----------+--------------+-----------+--------+---------------+-------------+--------------+-------------+-----------+----+-----+-------+---+-----+----------+----+-------+-----------+-----------+-------+\n",
      "|DateKey|Discount_Amount|Sales_Cost_Amount|Sales_Price|Sales_Quantity|CustomerKey|Customer|Business_Family|Customer_Type|Address_Number|Division_Name|Region_Name|City|State|Country|Day|Month|Month_Name|Year|Quarter|sk_Customer|sk_Locality|sk_Time|\n",
      "+-------+---------------+-----------------+-----------+--------------+-----------+--------+---------------+-------------+--------------+-------------+-----------+----+-----+-------+---+-----+----------+----+-------+-----------+-----------+-------+\n",
      "|      0|              0|                0|          0|             0|          0|       0|              0|            0|             0|            0|          0|   0|    0|      0|  0|    0|         0|   0|      0|          0|          0|      0|\n",
      "+-------+---------------+-----------------+-----------+--------------+-----------+--------+---------------+-------------+--------------+-------------+-----------+----+-----+-------+---+-----+----------+----+-------+-----------+-----------+-------+\n",
      "\n"
     ]
    }
   ],
   "source": [
    "# df_tabela_desnormalizada_ST.show(50)\n",
    "verificar_val_null(df_tabela_desnormalizada_ST)"
   ]
  },
  {
   "cell_type": "code",
   "execution_count": 47,
   "metadata": {},
   "outputs": [
    {
     "data": {
      "text/plain": [
       "True"
      ]
     },
     "execution_count": 47,
     "metadata": {},
     "output_type": "execute_result"
    }
   ],
   "source": [
    "# Verificando se o tamanho da tabela desnormalizada bate com o tamanho da tbaela vendas\n",
    "df_tabela_desnormalizada_ST.count() == df_vendas.count()"
   ]
  },
  {
   "cell_type": "code",
   "execution_count": 48,
   "metadata": {},
   "outputs": [
    {
     "data": {
      "text/plain": [
       "True"
      ]
     },
     "execution_count": 48,
     "metadata": {},
     "output_type": "execute_result"
    }
   ],
   "source": [
    "df_tabela_desnormalizada_ST.select('CustomerKey').distinct().count() == df_tabela_desnormalizada_ST.select('sk_Customer').distinct().count()"
   ]
  },
  {
   "cell_type": "code",
   "execution_count": 49,
   "metadata": {},
   "outputs": [
    {
     "name": "stdout",
     "output_type": "stream",
     "text": [
      "+--------------------+--------------------+\n",
      "|         sk_Customer|         sk_Locality|\n",
      "+--------------------+--------------------+\n",
      "|3e298f94d6109a0f5...|d188501b3332ec703...|\n",
      "|06838117b937aa0a5...|a4516f1bae1fe8778...|\n",
      "|3f65ca39da17bc6d5...|e55a9e5ba54fef512...|\n",
      "|09f16ff31a0ddfd59...|7cdd8a675f320b72e...|\n",
      "|3dbbc94b53c79bad3...|8e48ecee8b41696a0...|\n",
      "|0ab5562a7a91a6101...|1066c93128c2a79b2...|\n",
      "|f5e4d100cd36bfd2b...|c62f63735fdd734b8...|\n",
      "|96f38e9ea126293a4...|4ac7c150622e18ca8...|\n",
      "|63dcf56c416790b8a...|c2ac1490e5f9d551b...|\n",
      "|08ca84041156cefd0...|d144517c771d1f11f...|\n",
      "|bf82488f3e2393fbd...|6ed1be2a18b2234dd...|\n",
      "|7478cc2f69a317d96...|4c1108e0d756da268...|\n",
      "|2bf338ef508cf678e...|708d4032cda0e9323...|\n",
      "|1fa4d6795bf59266c...|acb2a70736f220417...|\n",
      "|8d094ef91c817aa37...|d7e35e4ba371ec9ec...|\n",
      "|209c3a0734cba9742...|463329411eb8506c6...|\n",
      "|e980f59bb3634fa88...|33eb172e548a424c8...|\n",
      "|ad6de235bc508e236...|5c211883c8e45b9cb...|\n",
      "|97d4eed9f41df5e95...|bed88fd06080bb8db...|\n",
      "|6638877cadd81c759...|bdb64c83ba637cc90...|\n",
      "+--------------------+--------------------+\n",
      "only showing top 20 rows\n",
      "\n"
     ]
    }
   ],
   "source": [
    "df_tabela_desnormalizada_ST.select('sk_Customer', 'sk_Locality').distinct().show()"
   ]
  },
  {
   "cell_type": "code",
   "execution_count": 56,
   "metadata": {},
   "outputs": [
    {
     "name": "stdout",
     "output_type": "stream",
     "text": [
      "+--------------------+-----------+-------------------+---------------+-------------+\n",
      "|         sk_Customer|CustomerKey|           Customer|Business Family|Customer Type|\n",
      "+--------------------+-----------+-------------------+---------------+-------------+\n",
      "|4e7366b435f2c93e7...|   10006862|     BL Supermarket|             R3|           G2|\n",
      "|8aafc4ff103f73cb3...|   10010906|        ediSys Shop|             R3|           G2|\n",
      "|6638877cadd81c759...|   10019682|       Lamson Store|             R3|           G2|\n",
      "|078de160cc8f5fa19...|   10000462|           a2i Shop|             R3|           G2|\n",
      "|944a0a120cb8f960a...|   10013341|Gatierf Supermarket|             R2|           G2|\n",
      "|da0d246737e33c22e...|   10024010|   Screaming Market|             R2|           G2|\n",
      "|cd13b37c077c1ccd8...|   10021204|      Pacific Store|             R1|           G3|\n",
      "|cdac8768b50915fc7...|   10001818|    Acc Supermarket|             R3|           G2|\n",
      "|9153843541d62bbad...|   10003857|     Beckman Market|             R3|           G2|\n",
      "|aa8d6fea7f6508707...|   10027583|          zNET Shop|             R2|           G2|\n",
      "|0e7badbccaf223810...|   10019952|     Lobster Market|             O2|           G2|\n",
      "|a52d73af75345059f...|   10019665| Labatt Supermarket|             R3|           G2|\n",
      "|ab397ff5c5f8154fb...|   10017072|     Iconation Shop|             R3|           G2|\n",
      "|c950df16489e86df1...|   10002144|      ACCUCOMP Shop|             R2|           G3|\n",
      "|19c6c68c57a514f50...|   10027560|         Zilog Shop|             R2|           G2|\n",
      "|1989e9eb834936c63...|   10007566|        Cambio Shop|             R2|           G2|\n",
      "|7e74c86d0555d39b0...|   10009650|       Dayton Store|             R3|           G1|\n",
      "|e980f59bb3634fa88...|   10016609|   Homestead Market|             R1|           G3|\n",
      "|e458c73abf5d56591...|   10013426|           GDC Shop|             R3|           G2|\n",
      "|5f7688d9b6b1a4df2...|   10019410|     Keystone Store|             R1|           G3|\n",
      "+--------------------+-----------+-------------------+---------------+-------------+\n",
      "only showing top 20 rows\n",
      "\n"
     ]
    }
   ],
   "source": [
    "# Criando as tabelas de dimensões:\n",
    "\n",
    "DIM_Customer = spark.sql('''\n",
    "            SELECT \n",
    "            DISTINCT sk_Customer,\n",
    "            CustomerKey,\n",
    "            Customer,\n",
    "            Business_Family as `Business Family`,\n",
    "            Customer_Type as `Customer Type`\n",
    "            FROM vw_tabela_desnormalizada_ST\n",
    "''')\n",
    "\n",
    "DIM_Customer.show()"
   ]
  },
  {
   "cell_type": "code",
   "execution_count": 51,
   "metadata": {},
   "outputs": [
    {
     "data": {
      "text/plain": [
       "615"
      ]
     },
     "execution_count": 51,
     "metadata": {},
     "output_type": "execute_result"
    }
   ],
   "source": [
    "DIM_Customer.count()"
   ]
  },
  {
   "cell_type": "code",
   "execution_count": 57,
   "metadata": {},
   "outputs": [
    {
     "name": "stdout",
     "output_type": "stream",
     "text": [
      "+--------------------+----------+---+-----+----------+----+-------+\n",
      "|             sk_Time|   DateKey|Day|Month|Month Name|Year|Quarter|\n",
      "+--------------------+----------+---+-----+----------+----+-------+\n",
      "|a77297494f6f82177...|2017-04-17| 17|    4|     April|2017|      2|\n",
      "|fe429bd12137a1d73...|2017-08-04|  4|    8|    August|2017|      3|\n",
      "|9a8c38a902a9d3064...|2017-01-29| 29|    1|   January|2017|      1|\n",
      "|ea1c90a850698457f...|2018-04-15| 15|    4|     April|2018|      2|\n",
      "|6d8f50d1bf1efb54e...|2018-04-19| 19|    4|     April|2018|      2|\n",
      "|bc611cbc38f0c8006...|2018-03-05|  5|    3|     March|2018|      1|\n",
      "|5f6a4144632929d63...|2018-08-25| 25|    8|    August|2018|      3|\n",
      "|12517115522c67574...|2018-08-31| 31|    8|    August|2018|      3|\n",
      "|3155d39794ac2712f...|2018-11-11| 11|   11|  November|2018|      4|\n",
      "|4144b2794ba6022d7...|2018-04-09|  9|    4|     April|2018|      2|\n",
      "|26579ac5f07760a20...|2017-08-28| 28|    8|    August|2017|      3|\n",
      "|646184059f72380e1...|2017-09-18| 18|    9| September|2017|      3|\n",
      "|acec0baa8274a597b...|2017-10-13| 13|   10|   October|2017|      4|\n",
      "|5f4ff2d6f3d0b3d6c...|2019-01-12| 12|    1|   January|2019|      1|\n",
      "|8be283d1a16dce940...|2017-06-12| 12|    6|      June|2017|      2|\n",
      "|70c16c259458f7d8c...|2018-12-10| 10|   12|  December|2018|      4|\n",
      "|06868c69a8c35bc44...|2018-05-19| 19|    5|       May|2018|      2|\n",
      "|bd80e4cc5ca1ed249...|2018-01-19| 19|    1|   January|2018|      1|\n",
      "|2b64590d2dee1e679...|2018-09-06|  6|    9| September|2018|      3|\n",
      "|a9b38d4eedd2ac889...|2017-03-27| 27|    3|     March|2017|      1|\n",
      "+--------------------+----------+---+-----+----------+----+-------+\n",
      "only showing top 20 rows\n",
      "\n"
     ]
    }
   ],
   "source": [
    "DIM_Time = spark.sql('''\n",
    "            SELECT \n",
    "            DISTINCT sk_Time,\n",
    "            DateKey,\n",
    "            Day, \n",
    "            Month,\n",
    "            Month_Name as `Month Name`,\n",
    "            Year,\n",
    "            Quarter\n",
    "            FROM vw_tabela_desnormalizada_ST\n",
    "''')\n",
    "\n",
    "DIM_Time.show()"
   ]
  },
  {
   "cell_type": "code",
   "execution_count": 53,
   "metadata": {},
   "outputs": [
    {
     "data": {
      "text/plain": [
       "558"
      ]
     },
     "execution_count": 53,
     "metadata": {},
     "output_type": "execute_result"
    }
   ],
   "source": [
    "# 798\n",
    "DIM_Time.count()"
   ]
  },
  {
   "cell_type": "code",
   "execution_count": 58,
   "metadata": {},
   "outputs": [
    {
     "name": "stdout",
     "output_type": "stream",
     "text": [
      "+--------------------+--------------+-------------+-------------+----------------+-------------+-------------+\n",
      "|         sk_Locality|Address Number|Division Name|  Region Name|            City|        State|      Country|\n",
      "+--------------------+--------------+-------------+-------------+----------------+-------------+-------------+\n",
      "|bacccbe2ff48d486c...|      10022249|     Domestic|     Southern|          Shelby|           NC|           US|\n",
      "|802d3fb155f4d17fb...|      10025267|International|International|   NÃO INFORMADO|NÃO INFORMADO|NÃO INFORMADO|\n",
      "|e80b13f4f9859a065...|      10021936|     Domestic|     Southern|      Louisville|           KY|           US|\n",
      "|219d7277344b4e0da...|      10016780|International|International|   NÃO INFORMADO|NÃO INFORMADO|NÃO INFORMADO|\n",
      "|86896dceeb0ac4bb8...|      10016549|     Domestic|     Southern|    Jacksonville|           FL|           US|\n",
      "|0e57c5957d600560a...|      10025291|     Domestic|      Central|           Dover|           OH|           US|\n",
      "|8e1ff1f3a2587b56f...|      10025571|     Domestic|      Central|      Des Moines|           IA|           US|\n",
      "|e3d8f296d2d24b101...|      10027356|     Domestic|      Central|    Grand Rapids|           MN|           US|\n",
      "|44bdcc26fb5437aef...|      10000455|     Domestic|      Western|Huntington Beach|           CA|           US|\n",
      "|1f5392c4e4d2ad606...|      10009653|International|       Canada|     Mississauga|           ON|           CA|\n",
      "|6d37ab7eb880e7830...|      10021485|     Domestic|      Central|           Hamel|           MN|           US|\n",
      "|2292846f66ffab7c6...|      10007309|International|International|   NÃO INFORMADO|NÃO INFORMADO|           UK|\n",
      "|38f5e42962c835075...|      10021411|International|International|   NÃO INFORMADO|NÃO INFORMADO|NÃO INFORMADO|\n",
      "|155ac2b77f9c57148...|      10010832|International|International|   NÃO INFORMADO|NÃO INFORMADO|NÃO INFORMADO|\n",
      "|3ce090d73cea3ce3c...|      10027370|International|International|          Madrid|NÃO INFORMADO|           UK|\n",
      "|179e18b6c59f95eb3...|      10025039|     Domestic|      Central|          Mentor|           OH|           US|\n",
      "|0884145c61dd29aa3...|      10021804|International|International|   NÃO INFORMADO|NÃO INFORMADO|NÃO INFORMADO|\n",
      "|0853007d1fa2aae75...|      10019664|     Domestic|      Central|          MOLINE|           IL|           US|\n",
      "|34fa2f7c3029ef29f...|      10025549|     Domestic|    Northeast|     Shady Grove|           PA|           US|\n",
      "|0f4ab61f694c42ac4...|      10000478|     Domestic|     Southern|     Little Rock|           AR|           US|\n",
      "+--------------------+--------------+-------------+-------------+----------------+-------------+-------------+\n",
      "only showing top 20 rows\n",
      "\n"
     ]
    }
   ],
   "source": [
    "DIM_Locality = spark.sql('''\n",
    "            SELECT \n",
    "            DISTINCT sk_Locality,\n",
    "            Address_Number as `Address Number`,\n",
    "            Division_Name as `Division Name`,\n",
    "            Region_Name as `Region Name`,\n",
    "            City,\n",
    "            State,\n",
    "            Country\n",
    "            FROM vw_tabela_desnormalizada_ST\n",
    "''')\n",
    "\n",
    "DIM_Locality.show()"
   ]
  },
  {
   "cell_type": "code",
   "execution_count": 59,
   "metadata": {},
   "outputs": [
    {
     "name": "stdout",
     "output_type": "stream",
     "text": [
      "+--------------------+--------------------+--------------------+---------------+-----------------+-----------+--------------+\n",
      "|         sk_Customer|             sk_Time|         sk_Locality|Discount Amount|Sales Cost Amount|Sales Price|Sales Quantity|\n",
      "+--------------------+--------------------+--------------------+---------------+-----------------+-----------+--------------+\n",
      "|d912851bdcbd8921b...|87702de4e2a9f6a88...|8b8d5fbcde8c473ef...|         605.28|            345.2|     669.82|             1|\n",
      "|d912851bdcbd8921b...|52493187d874b87a4...|8b8d5fbcde8c473ef...|         245.27|           122.21|     303.39|             1|\n",
      "|d912851bdcbd8921b...|efaf1a66ba883e6ea...|8b8d5fbcde8c473ef...|         605.28|            345.2|     669.82|             1|\n",
      "|555a3de7185c9783b...|ccd815428418894c9...|ee23db1ca8e5c9048...|         919.75|           605.31|     624.74|             2|\n",
      "|555a3de7185c9783b...|ccd815428418894c9...|ee23db1ca8e5c9048...|         856.48|           587.13|      58.18|            20|\n",
      "|555a3de7185c9783b...|ccd815428418894c9...|ee23db1ca8e5c9048...|         379.06|           286.04|     171.65|             3|\n",
      "|555a3de7185c9783b...|ccd815428418894c9...|ee23db1ca8e5c9048...|         379.06|           285.44|     171.65|             3|\n",
      "|555a3de7185c9783b...|7e512007235380fa6...|ee23db1ca8e5c9048...|          61.05|            90.58|      202.1|             1|\n",
      "|555a3de7185c9783b...|afff1d80dfc48c6fb...|ee23db1ca8e5c9048...|          366.3|           543.49|      202.1|             6|\n",
      "|555a3de7185c9783b...|ef00c131d3e28d37a...|ee23db1ca8e5c9048...|         610.51|           905.82|      202.1|            10|\n",
      "|555a3de7185c9783b...|a48f071e28153c003...|ee23db1ca8e5c9048...|         919.75|           605.31|     624.74|             2|\n",
      "|555a3de7185c9783b...|a48f071e28153c003...|ee23db1ca8e5c9048...|         856.48|           587.13|      58.18|            20|\n",
      "|555a3de7185c9783b...|a48f071e28153c003...|ee23db1ca8e5c9048...|         379.06|           286.04|     171.65|             3|\n",
      "|555a3de7185c9783b...|a48f071e28153c003...|ee23db1ca8e5c9048...|         379.06|           285.44|     171.65|             3|\n",
      "|555a3de7185c9783b...|197467d08d187fb2c...|ee23db1ca8e5c9048...|         379.06|           286.24|     171.65|             3|\n",
      "|555a3de7185c9783b...|eb485b00314c693c0...|ee23db1ca8e5c9048...|         582.11|           449.69|     849.12|             1|\n",
      "|555a3de7185c9783b...|eb485b00314c693c0...|ee23db1ca8e5c9048...|         582.11|           449.69|     849.12|             1|\n",
      "|555a3de7185c9783b...|baea58dfd5cf2bc67...|ee23db1ca8e5c9048...|         234.86|           209.47|      342.6|             1|\n",
      "|555a3de7185c9783b...|0267de22c46821473...|ee23db1ca8e5c9048...|         153.85|            77.66|     224.44|             1|\n",
      "|555a3de7185c9783b...|d7b88f861fd4bdcf4...|ee23db1ca8e5c9048...|         484.81|           381.65|      176.8|             4|\n",
      "+--------------------+--------------------+--------------------+---------------+-----------------+-----------+--------------+\n",
      "only showing top 20 rows\n",
      "\n"
     ]
    }
   ],
   "source": [
    "fact_orders = spark.sql('''\n",
    "            SELECT \n",
    "            sk_Customer,\n",
    "            sk_Time,\n",
    "            sk_Locality,\n",
    "            Discount_Amount as `Discount Amount`,\n",
    "            Sales_Cost_Amount as `Sales Cost Amount`,\n",
    "            Sales_Price as `Sales Price`, \n",
    "            Sales_Quantity as `Sales Quantity`\n",
    "            FROM vw_tabela_desnormalizada_ST\n",
    "''')\n",
    "\n",
    "fact_orders.show()"
   ]
  },
  {
   "cell_type": "code",
   "execution_count": null,
   "metadata": {},
   "outputs": [],
   "source": []
  }
 ],
 "metadata": {
  "kernelspec": {
   "display_name": "PySpark",
   "language": "python",
   "name": "pyspark"
  },
  "language_info": {
   "codemirror_mode": {
    "name": "ipython",
    "version": 3
   },
   "file_extension": ".py",
   "mimetype": "text/x-python",
   "name": "python",
   "nbconvert_exporter": "python",
   "pygments_lexer": "ipython3",
   "version": "3.6.10"
  }
 },
 "nbformat": 4,
 "nbformat_minor": 2
}
