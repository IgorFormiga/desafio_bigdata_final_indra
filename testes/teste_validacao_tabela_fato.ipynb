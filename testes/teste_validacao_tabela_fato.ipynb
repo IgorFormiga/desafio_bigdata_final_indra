{
 "cells": [
  {
   "cell_type": "code",
   "execution_count": 2,
   "metadata": {},
   "outputs": [],
   "source": [
    "from pyspark.sql import SparkSession, dataframe\n",
    "from pyspark.sql.functions import col, sum, count, isnan, round\n",
    "from pyspark.sql.functions import regexp_replace, concat_ws, sha2\n",
    "from pyspark.sql.functions import rtrim\n",
    "from pyspark.sql.functions import unix_timestamp, from_unixtime, to_date"
   ]
  },
  {
   "cell_type": "code",
   "execution_count": 3,
   "metadata": {},
   "outputs": [],
   "source": [
    "# Criação da instância spark para leitura e criação de tabelas\n",
    "spark = SparkSession.builder.master(\"local[*]\").enableHiveSupport().getOrCreate()"
   ]
  },
  {
   "cell_type": "code",
   "execution_count": 14,
   "metadata": {},
   "outputs": [
    {
     "name": "stdout",
     "output_type": "stream",
     "text": [
      "Número de registros do arquivo VENDAS.csv: 65282\n",
      "Número de registros do arquivo fact_orders: 65282\n",
      "O modelo foi validado com sucesso!\n"
     ]
    }
   ],
   "source": [
    "# Validação da tabela Fato:\n",
    "\n",
    "df_vendas = spark.read.options(delimiter=';', header=True).option('inferSchema','true')\\\n",
    "                                    .csv('../dados/dados_entrada/VENDAS.csv')\n",
    "\n",
    "fact_orders = spark.read.options(delimiter=';', header=True).option('inferSchema','true')\\\n",
    "                                    .csv('../dados/dados_saida/fact_orders.csv')   \n",
    "\n",
    "if (df_vendas.filter(col(\"CustomerKey\").isNotNull()).count() == fact_orders.count()):\n",
    "    print(f'Número de registros do arquivo VENDAS.csv: {df_vendas.filter(col(\"CustomerKey\").isNotNull()).count()}')\n",
    "    print(f'Número de registros do arquivo fact_orders: {fact_orders.count()}')\n",
    "    print('O modelo foi validado com sucesso!')\n"
   ]
  }
 ],
 "metadata": {
  "kernelspec": {
   "display_name": "Python 3.8.8 ('base')",
   "language": "python",
   "name": "python3"
  },
  "language_info": {
   "codemirror_mode": {
    "name": "ipython",
    "version": 3
   },
   "file_extension": ".py",
   "mimetype": "text/x-python",
   "name": "python",
   "nbconvert_exporter": "python",
   "pygments_lexer": "ipython3",
   "version": "3.8.8"
  },
  "orig_nbformat": 4,
  "vscode": {
   "interpreter": {
    "hash": "12fb55c19b53ac09035d9d6bd41a050fcb0becbe4846579be579fa8f11e9abb2"
   }
  }
 },
 "nbformat": 4,
 "nbformat_minor": 2
}
